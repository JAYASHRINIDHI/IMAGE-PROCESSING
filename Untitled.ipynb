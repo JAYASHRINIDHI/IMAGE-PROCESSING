{
 "cells": [
  {
   "cell_type": "code",
   "execution_count": 12,
   "id": "53ea894d",
   "metadata": {},
   "outputs": [],
   "source": [
    "#spatial filters averaging filter and median filter and median filter in image processing\n",
    "import cv2\n",
    "import numpy as np"
   ]
  },
  {
   "cell_type": "code",
   "execution_count": 16,
   "id": "9ea17e46",
   "metadata": {},
   "outputs": [],
   "source": [
    "img_noisy1=cv2.imread(\"C:/Users/User/Downloads/noisy.jfif\",0)"
   ]
  },
  {
   "cell_type": "code",
   "execution_count": 14,
   "id": "67bee106",
   "metadata": {},
   "outputs": [],
   "source": [
    "#obtaining the number of rows and columns\n",
    "m,n=img_noisy1.shape"
   ]
  },
  {
   "cell_type": "code",
   "execution_count": 18,
   "id": "fa45eb24",
   "metadata": {},
   "outputs": [],
   "source": [
    "#traverse the image for every 3x3 area and find the median of the pixel and replace the center pixel\n",
    "img_new1=np.zeros([m,n])\n",
    "for i in range(1,m-1):\n",
    "    for j in range(1,n-1):\n",
    "        temp=[img_noisy1[i-1,j-1],img_noisy1[i-1,j],img_noisy1[i-1,j+1],img_noisy1[i,j-1],img_noisy1[i,j],img_noisy1[i,j+1],img_noisy1[i+1,j-1],img_noisy1[i+1,j],img_noisy1[i+1,j+1]]\n",
    "        temp=sorted(temp)\n",
    "        img_new1[i,j]=temp[4]\n",
    "        img_new1=img_new1.astype(np.uint8)\n",
    "cv2.imshow(\"median filterd image\",img_new1)\n",
    "cv2.waitKey()\n",
    "cv2.destroyAllWindows()"
   ]
  },
  {
   "cell_type": "code",
   "execution_count": null,
   "id": "3ed4888d",
   "metadata": {},
   "outputs": [],
   "source": []
  },
  {
   "cell_type": "code",
   "execution_count": null,
   "id": "b9c02519",
   "metadata": {},
   "outputs": [],
   "source": []
  },
  {
   "cell_type": "code",
   "execution_count": null,
   "id": "bd04de45",
   "metadata": {},
   "outputs": [],
   "source": []
  }
 ],
 "metadata": {
  "kernelspec": {
   "display_name": "Python 3 (ipykernel)",
   "language": "python",
   "name": "python3"
  },
  "language_info": {
   "codemirror_mode": {
    "name": "ipython",
    "version": 3
   },
   "file_extension": ".py",
   "mimetype": "text/x-python",
   "name": "python",
   "nbconvert_exporter": "python",
   "pygments_lexer": "ipython3",
   "version": "3.9.7"
  }
 },
 "nbformat": 4,
 "nbformat_minor": 5
}
