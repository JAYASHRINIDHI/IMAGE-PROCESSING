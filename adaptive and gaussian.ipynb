{
 "cells": [
  {
   "cell_type": "code",
   "execution_count": null,
   "id": "b124898c",
   "metadata": {},
   "outputs": [],
   "source": [
    "import cv2\n",
    "import numpy as np\n",
    "\n",
    "img = cv2.imread('aaa.jpg', cv2.IMREAD_GRAYSCALE)\n",
    "cv2.imshow('gray', img)\n",
    "\n",
    "blur = cv2.GaussianBlur(img,(5,5),0)\n",
    "cv2.imshow('blur', blur)\n",
    "\n",
    "ret,th1 = cv2.threshold(blur,150,255,cv2.THRESH_BINARY)\n",
    "cv2.imshow('Global', th1)\n",
    "cv2.imwrite('Global.jpg',th1)\n",
    "\n",
    "\n",
    "th2 = cv2.adaptiveThreshold(blur,255,cv2.ADAPTIVE_THRESH_MEAN_C,cv2.THRESH_BINARY,11,2)\n",
    "cv2.imshow('Adaptive Mean', th2)\n",
    "cv2.imwrite('AM.jpg',th2)\n",
    "\n",
    "\n",
    "th3 = cv2.adaptiveThreshold(blur,255,cv2.ADAPTIVE_THRESH_GAUSSIAN_C,cv2.THRESH_BINARY,11,2)\n",
    "cv2.imshow('Adaptive Gaussian', th3)\n",
    "cv2.imwrite('AG.jpg',th3)\n",
    "cv2.waitKey(0)\n",
    "cv2.destroyAllWindows()"
   ]
  },
  {
   "cell_type": "code",
   "execution_count": null,
   "id": "4f483e77",
   "metadata": {},
   "outputs": [],
   "source": []
  }
 ],
 "metadata": {
  "kernelspec": {
   "display_name": "Python 3 (ipykernel)",
   "language": "python",
   "name": "python3"
  },
  "language_info": {
   "codemirror_mode": {
    "name": "ipython",
    "version": 3
   },
   "file_extension": ".py",
   "mimetype": "text/x-python",
   "name": "python",
   "nbconvert_exporter": "python",
   "pygments_lexer": "ipython3",
   "version": "3.9.7"
  }
 },
 "nbformat": 4,
 "nbformat_minor": 5
}
