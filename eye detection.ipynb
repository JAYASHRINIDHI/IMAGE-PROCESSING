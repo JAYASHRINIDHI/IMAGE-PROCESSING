{
 "cells": [
  {
   "cell_type": "code",
   "execution_count": 9,
   "id": "b62ff195",
   "metadata": {},
   "outputs": [
    {
     "name": "stdout",
     "output_type": "stream",
     "text": [
      "Number of detected faces: 8\n"
     ]
    }
   ],
   "source": [
    "import cv2\n",
    "img = cv2.imread(\"f8.jpg\")\n",
    "gray = cv2.cvtColor(img, cv2.COLOR_BGR2GRAY)\n",
    "\n",
    "face_cascade = cv2.CascadeClassifier('haarcascade_frontalface_default.xml')\n",
    "eye_cascade = cv2.CascadeClassifier('haarcascade_eye_tree_eyeglasses.xml')\n",
    "\n",
    "faces = face_cascade.detectMultiScale(gray, 1.3, 4)\n",
    "print('Number of detected faces:', len(faces))\n",
    "\n",
    "# loop over the detected faces\n",
    "for (x,y,w,h) in faces:\n",
    "    roi_gray = gray[y:y+h, x:x+w]\n",
    "    roi_color = img[y:y+h, x:x+w]\n",
    "   \n",
    "   # detects eyes of within the detected face area (roi)\n",
    "    eyes = eye_cascade.detectMultiScale(roi_gray)\n",
    "   \n",
    "   # draw a rectangle around eyes\n",
    "    for (ex,ey,ew,eh) in eyes:\n",
    "        cv2.rectangle(roi_color,(ex,ey),(ex+ew,ey+eh),(0,255,255),2)\n",
    "\n",
    "# display the image with detected eyes\n",
    "cv2.imshow('Eyes Detection',img)\n",
    "cv2.waitKey(0)\n",
    "cv2.destroyAllWindows()"
   ]
  },
  {
   "cell_type": "code",
   "execution_count": null,
   "id": "02ca845a",
   "metadata": {},
   "outputs": [],
   "source": []
  },
  {
   "cell_type": "code",
   "execution_count": null,
   "id": "3836d0dc",
   "metadata": {},
   "outputs": [],
   "source": []
  }
 ],
 "metadata": {
  "kernelspec": {
   "display_name": "Python 3 (ipykernel)",
   "language": "python",
   "name": "python3"
  },
  "language_info": {
   "codemirror_mode": {
    "name": "ipython",
    "version": 3
   },
   "file_extension": ".py",
   "mimetype": "text/x-python",
   "name": "python",
   "nbconvert_exporter": "python",
   "pygments_lexer": "ipython3",
   "version": "3.9.7"
  }
 },
 "nbformat": 4,
 "nbformat_minor": 5
}
