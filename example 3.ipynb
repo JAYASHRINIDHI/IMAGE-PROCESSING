{
 "cells": [
  {
   "cell_type": "code",
   "execution_count": 1,
   "id": "1bcf81a2",
   "metadata": {},
   "outputs": [],
   "source": [
    "#bitwise operator\n",
    "import cv2 \n",
    "img1=cv2.imread(\"sky.jfif\")\n",
    "img2=cv2.imread(\"moon.jfif\")\n",
    "\n",
    "bitwise_AND=cv2.bitwise_and(img1,img2)\n",
    "bitwise_OR=cv2.bitwise_or(img1,img2)\n",
    "bitwise_NOT=cv2.bitwise_not(img1)\n",
    "\n",
    "cv2.imshow(\"img1\",img1)\n",
    "cv2.imshow(\"img2\",img2)\n",
    "cv2.imshow(\"AND\",bitwise_AND)\n",
    "cv2.imshow(\"OR\",bitwise_OR)\n",
    "cv2.imshow(\"NOT\",bitwise_NOT)\n",
    "cv2.waitKey(0)\n",
    "cv2.destroyAllWindows()"
   ]
  },
  {
   "cell_type": "code",
   "execution_count": 11,
   "id": "f41cd01c",
   "metadata": {},
   "outputs": [],
   "source": [
    "#changing the background of an image\n",
    "from PIL import Image,ImageDraw,ImageFilter\n",
    "im1=Image.open(\"aaa.jpg\")\n",
    "im2=Image.open(\"bhoomi.jpg\")\n",
    "mask_im=Image.new(\"L\",im2.size,0)\n",
    "draw=ImageDraw.Draw(mask_im)\n",
    "draw.ellipse((150,105,410,300),fill=225)\n",
    "mask_im_blur=mask_im.filter(ImageFilter.GaussianBlur(10))\n",
    "back_im=im1.copy()\n",
    "back_im.paste(im2,(0,0),mask_im_blur)\n",
    "back_im.show()"
   ]
  },
  {
   "cell_type": "code",
   "execution_count": null,
   "id": "95bc33b3",
   "metadata": {},
   "outputs": [],
   "source": []
  },
  {
   "cell_type": "code",
   "execution_count": null,
   "id": "0e509020",
   "metadata": {},
   "outputs": [],
   "source": []
  }
 ],
 "metadata": {
  "kernelspec": {
   "display_name": "Python 3 (ipykernel)",
   "language": "python",
   "name": "python3"
  },
  "language_info": {
   "codemirror_mode": {
    "name": "ipython",
    "version": 3
   },
   "file_extension": ".py",
   "mimetype": "text/x-python",
   "name": "python",
   "nbconvert_exporter": "python",
   "pygments_lexer": "ipython3",
   "version": "3.9.7"
  }
 },
 "nbformat": 4,
 "nbformat_minor": 5
}
