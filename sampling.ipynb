{
 "cells": [
  {
   "cell_type": "code",
   "execution_count": 7,
   "id": "22f1ee5b",
   "metadata": {},
   "outputs": [],
   "source": [
    "#upsampling\n",
    "import cv2\n",
    "\n",
    "image = cv2.imread('letter.jpg')\n",
    "cv2.imshow('before', image)\n",
    "\n",
    "image = cv2.pyrUp(image)\n",
    "cv2.imshow('after', image)\n",
    "cv2.waitKey()\n",
    "cv2.destroyAllWindows()    "
   ]
  },
  {
   "cell_type": "code",
   "execution_count": null,
   "id": "08192c11",
   "metadata": {},
   "outputs": [],
   "source": [
    "#downsampling\n",
    "import cv2\n",
    "\n",
    "image = cv2.imread('letter.jpg')\n",
    "cv2.imshow('before', image)\n",
    "\n",
    "image = cv2.pyrDown(image)\n",
    "cv2.imshow('after', image)\n",
    "cv2.waitKey()\n",
    "cv2.destroyAllWindows()    "
   ]
  },
  {
   "cell_type": "code",
   "execution_count": null,
   "id": "1fd3b1f0",
   "metadata": {},
   "outputs": [],
   "source": []
  }
 ],
 "metadata": {
  "kernelspec": {
   "display_name": "Python 3 (ipykernel)",
   "language": "python",
   "name": "python3"
  },
  "language_info": {
   "codemirror_mode": {
    "name": "ipython",
    "version": 3
   },
   "file_extension": ".py",
   "mimetype": "text/x-python",
   "name": "python",
   "nbconvert_exporter": "python",
   "pygments_lexer": "ipython3",
   "version": "3.9.7"
  }
 },
 "nbformat": 4,
 "nbformat_minor": 5
}
