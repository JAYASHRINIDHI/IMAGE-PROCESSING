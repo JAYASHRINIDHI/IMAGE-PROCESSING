{
 "cells": [
  {
   "cell_type": "code",
   "execution_count": 1,
   "id": "1f59a53f",
   "metadata": {},
   "outputs": [
    {
     "name": "stdout",
     "output_type": "stream",
     "text": [
      "F:/new\\invert_bottle.jpg\n",
      "F:/new\\invert_bottle.png\n",
      "F:/new\\invert_bottle1.jpg\n",
      "F:/new\\invert_c#.png\n",
      "F:/new\\invert_c++.png\n",
      "F:/new\\invert_cProgram.png\n",
      "F:/new\\invert_im1.png\n",
      "F:/new\\invert_image.png\n",
      "F:/new\\invert_image1.png\n",
      "F:/new\\invert_images.png\n",
      "F:/new\\invert_images.v.jfif\n",
      "F:/new\\invert_java.png\n",
      "F:/new\\invert_javascript.png\n",
      "F:/new\\invert_jquery.png\n",
      "F:/new\\invert_jsp.png\n",
      "F:/new\\invert_music1.png\n"
     ]
    }
   ],
   "source": [
    "from PIL import Image\n",
    "from PIL import ImageFilter\n",
    "import os\n",
    "\n",
    "def main():\n",
    "# path of the folder containing the raw images\n",
    "    inPath =\"F:/Jayashrinidhi\"\n",
    "\n",
    "# path of the folder that will contain the modified image\n",
    "    outPath =\"F:/new\"\n",
    "    \n",
    "    for imagePath in os.listdir(inPath):\n",
    "# imagePath contains name of the image\n",
    "        inputPath = os.path.join(inPath, imagePath)\n",
    "\n",
    "# inputPath contains the full directory name\n",
    "        img = Image.open(inputPath)\n",
    "\n",
    "        fullOutPath = os.path.join(outPath, 'invert_'+imagePath)\n",
    "# fullOutPath contains the path of the output\n",
    "# image that needs to be generated\n",
    "        img.rotate(90).save(fullOutPath)\n",
    "\n",
    "        print(fullOutPath)\n",
    "\n",
    "# Driver Function\n",
    "if __name__ == '__main__':\n",
    "    main()"
   ]
  },
  {
   "cell_type": "code",
   "execution_count": null,
   "id": "e39ded35",
   "metadata": {},
   "outputs": [],
   "source": []
  },
  {
   "cell_type": "code",
   "execution_count": null,
   "id": "112bfe28",
   "metadata": {},
   "outputs": [],
   "source": []
  }
 ],
 "metadata": {
  "kernelspec": {
   "display_name": "Python 3 (ipykernel)",
   "language": "python",
   "name": "python3"
  },
  "language_info": {
   "codemirror_mode": {
    "name": "ipython",
    "version": 3
   },
   "file_extension": ".py",
   "mimetype": "text/x-python",
   "name": "python",
   "nbconvert_exporter": "python",
   "pygments_lexer": "ipython3",
   "version": "3.9.7"
  }
 },
 "nbformat": 4,
 "nbformat_minor": 5
}
