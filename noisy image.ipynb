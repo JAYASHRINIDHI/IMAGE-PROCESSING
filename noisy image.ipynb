{
 "cells": [
  {
   "cell_type": "code",
   "execution_count": 2,
   "id": "6f0f42e9",
   "metadata": {},
   "outputs": [],
   "source": [
    "#spatial filters averaging filter and median filter and median filter in image processing\n",
    "import cv2\n",
    "import numpy as np"
   ]
  },
  {
   "cell_type": "code",
   "execution_count": 3,
   "id": "6df5824e",
   "metadata": {},
   "outputs": [],
   "source": [
    "img_noisy1=cv2.imread(\"C:/Users/User/Downloads/noisy.jfif\",0)"
   ]
  },
  {
   "cell_type": "code",
   "execution_count": 4,
   "id": "434fe494",
   "metadata": {},
   "outputs": [],
   "source": [
    "#obtaining the number of rows and columns\n",
    "m,n=img_noisy1.shape"
   ]
  },
  {
   "cell_type": "code",
   "execution_count": 5,
   "id": "3aed6c00",
   "metadata": {},
   "outputs": [],
   "source": [
    "#traverse the image for every 3x3 area and find the median of the pixel and replace the center pixel\n",
    "img_new1=np.zeros([m,n])\n",
    "for i in range(1,m-1):\n",
    "    for j in range(1,n-1):\n",
    "        temp=[img_noisy1[i-1,j-1],img_noisy1[i-1,j],img_noisy1[i-1,j+1],\n",
    "              img_noisy1[i,j-1],img_noisy1[i,j],img_noisy1[i,j+1],\n",
    "              img_noisy1[i+1,j-1],img_noisy1[i+1,j],img_noisy1[i+1,j+1]]\n",
    "        temp=sorted(temp)\n",
    "        img_new1[i,j]=temp[4]\n",
    "        img_new1=img_new1.astype(np.uint8)\n",
    "cv2.imshow(\"median filterd image\",img_new1)\n",
    "cv2.waitKey()\n",
    "cv2.destroyAllWindows()"
   ]
  },
  {
   "cell_type": "code",
   "execution_count": 12,
   "id": "83b984b1",
   "metadata": {},
   "outputs": [],
   "source": [
    "#low pass spatial domain filtering to observe the blurring effect\n",
    "import cv2\n",
    "import numpy as np\n",
    "img=cv2.imread(\"C:/Users/User/Downloads/noisy.jfif\",0)\n",
    "m,n=img.shape\n",
    "#develop averaging filter(3,3) mask\n",
    "mask=np.ones([3,3],dtype=int)\n",
    "mask=mask/9\n",
    "#construct 3x3 mask over theimage\n",
    "img_new=np.zeros([m,n])\n",
    "for i in range(1,m-1):\n",
    "    for j in range(1,n-1):\n",
    "        temp=img[i-1,j-1]*mask[0,0]+img[i-1,j]*mask[0,1]+img[i-1,j+1]*mask[0,2]+img[i,j-1]*mask[1,0]+img[i,j]*mask[1,1]+img[i,j+1]*mask[1,2] +img[i+1,j-1]*mask[2,0]+img[i+1,j]*mask[2,1]+img[i+1,j+1]*mask[2,2]\n",
    "        img_new[i,j]=temp\n",
    "        img_new=img_new.astype(np.uint8)\n",
    "cv2.imshow(\"median filterd image\",img_new)\n",
    "cv2.waitKey()\n",
    "cv2.destroyAllWindows()            "
   ]
  },
  {
   "cell_type": "code",
   "execution_count": null,
   "id": "005f8e1f",
   "metadata": {},
   "outputs": [],
   "source": []
  },
  {
   "cell_type": "code",
   "execution_count": null,
   "id": "2c5ce623",
   "metadata": {},
   "outputs": [],
   "source": []
  }
 ],
 "metadata": {
  "kernelspec": {
   "display_name": "Python 3 (ipykernel)",
   "language": "python",
   "name": "python3"
  },
  "language_info": {
   "codemirror_mode": {
    "name": "ipython",
    "version": 3
   },
   "file_extension": ".py",
   "mimetype": "text/x-python",
   "name": "python",
   "nbconvert_exporter": "python",
   "pygments_lexer": "ipython3",
   "version": "3.9.7"
  }
 },
 "nbformat": 4,
 "nbformat_minor": 5
}
