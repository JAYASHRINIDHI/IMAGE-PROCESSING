{
 "cells": [
  {
   "cell_type": "code",
   "execution_count": 1,
   "id": "c4da7ece",
   "metadata": {},
   "outputs": [],
   "source": [
    "import skimage.io\n",
    "import skimage.util\n",
    "\n",
    "a = skimage.io.imread('4.png')\n",
    "#print(a.shape)\n",
    "# (225, 400, 3)\n",
    "\n",
    "b = a // 2\n",
    "c = a // 3\n",
    "\n",
    "m = skimage.util.montage([a, b, c], multichannel=True)\n",
    "#print(m.shape)\n",
    "# (450, 800, 3)\n",
    "\n",
    "cv2.imshow('to display images',m)\n",
    "cv2.waitKey(0)\n",
    "cv2.destroyAllWindows()"
   ]
  },
  {
   "cell_type": "code",
   "execution_count": 4,
   "id": "a6032893",
   "metadata": {},
   "outputs": [],
   "source": [
    "import cv2\n",
    "import numpy as np\n",
    "\n",
    "image1=cv2.imread(\"b.png\")\n",
    "image2=cv2.imread(\"crop.png\")\n",
    "image3=cv2.imread(\"4.png\")\n",
    "image4=cv2.imread(\"cat.png\")\n",
    "\n",
    "image1=cv2.resize(image1,(200,200))\n",
    "image2=cv2.resize(image2,(200,200))\n",
    "image3=cv2.resize(image3,(200,200))\n",
    "image4=cv2.resize(image4,(200,200))\n",
    "\n",
    "Horizontal1=np.hstack([image1,image2])\n",
    "Horizontal2=np.hstack([image3,image4])\n",
    "\n",
    "Vertical_attachment=np.vstack([Horizontal1,Horizontal2])\n",
    "\n",
    "cv2.imshow(\"Final Collage\",Vertical_attachment)\n",
    "cv2.waitKey(0)\n",
    "cv2.destroyAllWindows()\n",
    "\n"
   ]
  },
  {
   "cell_type": "code",
   "execution_count": 5,
   "id": "8e1df541",
   "metadata": {},
   "outputs": [
    {
     "data": {
      "text/plain": [
       "'montage.png'"
      ]
     },
     "execution_count": 5,
     "metadata": {},
     "output_type": "execute_result"
    }
   ],
   "source": [
    "import cv2\n",
    "from PIL import Image\n",
    "from skimage import io\n",
    "\n",
    "\n",
    "IMAGE_WIDTH = 400\n",
    "IMAGE_HEIGHT = 400\n",
    "\n",
    "def create_collage(images):\n",
    "    images = [io.imread(img) for img in images]\n",
    "    images = [cv2.resize(image, (IMAGE_WIDTH, IMAGE_HEIGHT)) for image in images]\n",
    "    if len(images) > 2:\n",
    "        half = len(images) // 2\n",
    "        h1 = cv2.hconcat(images[:half])\n",
    "        h2 = cv2.hconcat(images[half:])\n",
    "        concat_images = cv2.vconcat([h1, h2])\n",
    "    else:\n",
    "        concat_images = cv2.hconcat(images)\n",
    "    image = Image.fromarray(concat_images)\n",
    "\n",
    "    # Image path\n",
    "    image_name = \"montage.png\"\n",
    "    image = image.convert(\"RGB\")\n",
    "    image.save(f\"{image_name}\")\n",
    "    return image_name\n",
    "images=[\"b.png\",\"crop.png\",\"4.png\",\"cat.png\"]\n",
    "#image1 on top left, image2 on top right, image3 on bottom left,image4 on bottom right\n",
    "create_collage(images)\n"
   ]
  },
  {
   "cell_type": "code",
   "execution_count": null,
   "id": "798194eb",
   "metadata": {},
   "outputs": [],
   "source": []
  }
 ],
 "metadata": {
  "kernelspec": {
   "display_name": "Python 3 (ipykernel)",
   "language": "python",
   "name": "python3"
  },
  "language_info": {
   "codemirror_mode": {
    "name": "ipython",
    "version": 3
   },
   "file_extension": ".py",
   "mimetype": "text/x-python",
   "name": "python",
   "nbconvert_exporter": "python",
   "pygments_lexer": "ipython3",
   "version": "3.9.7"
  }
 },
 "nbformat": 4,
 "nbformat_minor": 5
}
